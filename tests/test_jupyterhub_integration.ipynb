{
 "cells": [
  {
   "cell_type": "markdown",
   "id": "00c9ab85",
   "metadata": {},
   "source": [
    "# JupyterHub Firefox Launcher Integration Test\n",
    "\n",
    "This notebook tests the JupyterLab Firefox launcher extension through JupyterHub to ensure:\n",
    "1. Static files are accessible through JupyterHub proxy\n",
    "2. Authentication bypass works correctly\n",
    "3. Compression handling is functional\n",
    "4. iframe embedding support is working\n",
    "5. No 405 or 500 errors occur"
   ]
  },
  {
   "cell_type": "code",
   "execution_count": 1,
   "id": "0bfe440d",
   "metadata": {},
   "outputs": [
    {
     "name": "stdout",
     "output_type": "stream",
     "text": [
      "🧪 JupyterHub Firefox Launcher Integration Test\n",
      "=======================================================\n",
      "JupyterHub URL: http://localhost:8000\n",
      "JupyterLab URL: http://localhost:8890\n",
      "Test User: bdx\n"
     ]
    }
   ],
   "source": [
    "import requests\n",
    "import json\n",
    "import time\n",
    "import os\n",
    "from IPython.display import display, HTML, IFrame\n",
    "\n",
    "# Configuration for testing\n",
    "JUPYTERHUB_URL = \"http://localhost:8000\"\n",
    "JUPYTERLAB_URL = \"http://localhost:8890\"\n",
    "USERNAME = \"bdx\"  # Your username\n",
    "\n",
    "print(\"🧪 JupyterHub Firefox Launcher Integration Test\")\n",
    "print(\"=\" * 55)\n",
    "print(f\"JupyterHub URL: {JUPYTERHUB_URL}\")\n",
    "print(f\"JupyterLab URL: {JUPYTERLAB_URL}\")\n",
    "print(f\"Test User: {USERNAME}\")"
   ]
  },
  {
   "cell_type": "markdown",
   "id": "3bb51486",
   "metadata": {},
   "source": [
    "## Test 1: Direct JupyterLab Access\n",
    "\n",
    "First, let's verify that the Firefox launcher extension works correctly when accessing JupyterLab directly."
   ]
  },
  {
   "cell_type": "code",
   "execution_count": 2,
   "id": "af6e87ab",
   "metadata": {},
   "outputs": [
    {
     "name": "stdout",
     "output_type": "stream",
     "text": [
      "🔧 Testing direct JupyterLab static file access...\n",
      "   ✅ js/lib/jquery.js: HEAD 200, GET 200, 289782 bytes\n",
      "   ✅ js/lib/rencode.js: HEAD 200, GET 200, 14061 bytes\n",
      "   ✅ js/Client.js: HEAD 200, GET 200, 157464 bytes\n",
      "   ✅ css/client.css: HEAD 200, GET 200, 9411 bytes\n",
      "\n",
      "📊 Direct access result: 4/4 files accessible\n"
     ]
    }
   ],
   "source": [
    "def test_static_files_direct():\n",
    "    \"\"\"Test static file access through direct JupyterLab.\"\"\"\n",
    "    print(\"🔧 Testing direct JupyterLab static file access...\")\n",
    "    \n",
    "    base_url = f\"{JUPYTERLAB_URL}/firefox-launcher\"\n",
    "    test_files = [\n",
    "        \"js/lib/jquery.js\",\n",
    "        \"js/lib/rencode.js\",\n",
    "        \"js/Client.js\",\n",
    "        \"css/client.css\"\n",
    "    ]\n",
    "    \n",
    "    results = []\n",
    "    for file_path in test_files:\n",
    "        url = f\"{base_url}/{file_path}\"\n",
    "        try:\n",
    "            # Test both HEAD and GET\n",
    "            head_resp = requests.head(url, timeout=5)\n",
    "            get_resp = requests.get(url, timeout=5)\n",
    "            \n",
    "            success = head_resp.status_code == 200 and get_resp.status_code == 200\n",
    "            results.append({\n",
    "                \"file\": file_path,\n",
    "                \"head_status\": head_resp.status_code,\n",
    "                \"get_status\": get_resp.status_code,\n",
    "                \"size\": len(get_resp.content),\n",
    "                \"success\": success\n",
    "            })\n",
    "            \n",
    "            status = \"✅\" if success else \"❌\"\n",
    "            print(f\"   {status} {file_path}: HEAD {head_resp.status_code}, GET {get_resp.status_code}, {len(get_resp.content)} bytes\")\n",
    "            \n",
    "        except Exception as e:\n",
    "            results.append({\"file\": file_path, \"error\": str(e), \"success\": False})\n",
    "            print(f\"   ❌ {file_path}: {e}\")\n",
    "    \n",
    "    successful = sum(1 for r in results if r[\"success\"])\n",
    "    print(f\"\\n📊 Direct access result: {successful}/{len(test_files)} files accessible\")\n",
    "    return results\n",
    "\n",
    "direct_results = test_static_files_direct()"
   ]
  },
  {
   "cell_type": "markdown",
   "id": "af444ee1",
   "metadata": {},
   "source": [
    "## Test 2: JupyterHub Proxy Access\n",
    "\n",
    "Now let's test accessing the same static files through the JupyterHub proxy to ensure proper routing."
   ]
  },
  {
   "cell_type": "code",
   "execution_count": 3,
   "id": "c2d3849f",
   "metadata": {},
   "outputs": [
    {
     "name": "stdout",
     "output_type": "stream",
     "text": [
      "⚠️  Note: If this fails, it might be because JupyterHub hasn't spawned the user server yet.\n",
      "   Try accessing JupyterHub in browser first to spawn the server.\n",
      "🔧 Testing JupyterHub proxy static file access...\n",
      "   ✅ js/lib/jquery.js: 200, 289782 bytes\n",
      "   ✅ js/lib/rencode.js: 200, 14061 bytes\n",
      "   ✅ js/Client.js: 200, 157464 bytes\n",
      "   ✅ css/client.css: 200, 9411 bytes\n",
      "\n",
      "📊 JupyterHub proxy result: 4/4 files accessible\n"
     ]
    }
   ],
   "source": [
    "def test_static_files_jupyterhub():\n",
    "    \"\"\"Test static file access through JupyterHub proxy.\"\"\"\n",
    "    print(\"🔧 Testing JupyterHub proxy static file access...\")\n",
    "    \n",
    "    # JupyterHub proxy path format: /user/{username}/firefox-launcher/\n",
    "    base_url = f\"{JUPYTERHUB_URL}/user/{USERNAME}/firefox-launcher\"\n",
    "    test_files = [\n",
    "        \"js/lib/jquery.js\",\n",
    "        \"js/lib/rencode.js\",\n",
    "        \"js/Client.js\",\n",
    "        \"css/client.css\"\n",
    "    ]\n",
    "    \n",
    "    results = []\n",
    "    for file_path in test_files:\n",
    "        url = f\"{base_url}/{file_path}\"\n",
    "        try:\n",
    "            # Test GET request (HEAD might not work through proxy)\n",
    "            get_resp = requests.get(url, timeout=10, allow_redirects=True)\n",
    "            \n",
    "            success = get_resp.status_code == 200\n",
    "            results.append({\n",
    "                \"file\": file_path,\n",
    "                \"status\": get_resp.status_code,\n",
    "                \"size\": len(get_resp.content) if success else 0,\n",
    "                \"success\": success\n",
    "            })\n",
    "            \n",
    "            status = \"✅\" if success else \"❌\"\n",
    "            if success:\n",
    "                print(f\"   {status} {file_path}: {get_resp.status_code}, {len(get_resp.content)} bytes\")\n",
    "            else:\n",
    "                print(f\"   {status} {file_path}: {get_resp.status_code}\")\n",
    "            \n",
    "        except Exception as e:\n",
    "            results.append({\"file\": file_path, \"error\": str(e), \"success\": False})\n",
    "            print(f\"   ❌ {file_path}: {e}\")\n",
    "    \n",
    "    successful = sum(1 for r in results if r[\"success\"])\n",
    "    print(f\"\\n📊 JupyterHub proxy result: {successful}/{len(test_files)} files accessible\")\n",
    "    return results\n",
    "\n",
    "# Note: This might fail initially if JupyterHub hasn't spawned the user server yet\n",
    "print(\"⚠️  Note: If this fails, it might be because JupyterHub hasn't spawned the user server yet.\")\n",
    "print(\"   Try accessing JupyterHub in browser first to spawn the server.\")\n",
    "jupyterhub_results = test_static_files_jupyterhub()"
   ]
  },
  {
   "cell_type": "markdown",
   "id": "89c43296",
   "metadata": {},
   "source": [
    "## Test 3: Client Endpoint Authentication Bypass\n",
    "\n",
    "Test that the client endpoint works without authentication (crucial for iframe embedding)."
   ]
  },
  {
   "cell_type": "code",
   "execution_count": 4,
   "id": "cdd57e98",
   "metadata": {},
   "outputs": [
    {
     "name": "stdout",
     "output_type": "stream",
     "text": [
      "🔐 Testing client endpoint authentication bypass...\n",
      "   Direct access: 200 ✅\n",
      "   Content type: text/html; charset=utf-8 ✅\n"
     ]
    }
   ],
   "source": [
    "def test_client_endpoint_bypass():\n",
    "    \"\"\"Test client endpoint authentication bypass.\"\"\"\n",
    "    print(\"🔐 Testing client endpoint authentication bypass...\")\n",
    "    \n",
    "    # Test direct JupyterLab access\n",
    "    direct_url = f\"{JUPYTERLAB_URL}/firefox-launcher/client?ws=ws://localhost:12345/&http=http://localhost:12345/\"\n",
    "    \n",
    "    try:\n",
    "        response = requests.get(direct_url, timeout=5)\n",
    "        direct_success = response.status_code == 200\n",
    "        print(f\"   Direct access: {response.status_code} {'✅' if direct_success else '❌'}\")\n",
    "        \n",
    "        if direct_success:\n",
    "            # Check if it returns HTML content\n",
    "            is_html = 'text/html' in response.headers.get('content-type', '')\n",
    "            print(f\"   Content type: {response.headers.get('content-type', 'unknown')} {'✅' if is_html else '❌'}\")\n",
    "        \n",
    "        return {\n",
    "            \"direct_status\": response.status_code,\n",
    "            \"direct_success\": direct_success,\n",
    "            \"content_type\": response.headers.get('content-type', 'unknown')\n",
    "        }\n",
    "        \n",
    "    except Exception as e:\n",
    "        print(f\"   ❌ Error: {e}\")\n",
    "        return {\"error\": str(e), \"direct_success\": False}\n",
    "\n",
    "client_test = test_client_endpoint_bypass()"
   ]
  },
  {
   "cell_type": "markdown",
   "id": "c44a5761",
   "metadata": {},
   "source": [
    "## Test 4: Compression Handling\n",
    "\n",
    "Test that various compression formats are handled correctly (this was the original zlib issue)."
   ]
  },
  {
   "cell_type": "code",
   "execution_count": 5,
   "id": "3e129834",
   "metadata": {},
   "outputs": [
    {
     "name": "stdout",
     "output_type": "stream",
     "text": [
      "🗜️  Testing compression handling...\n",
      "   ✅ No compression: 200, 157464 bytes, encoding: none\n",
      "   ✅ Gzip: 200, 157464 bytes, encoding: none\n",
      "   ✅ Deflate: 200, 157464 bytes, encoding: none\n",
      "   ✅ Brotli: 200, 157464 bytes, encoding: none\n",
      "   ✅ Multiple: 200, 157464 bytes, encoding: none\n",
      "\n",
      "📊 Compression test result: 5/5 encodings working\n"
     ]
    }
   ],
   "source": [
    "def test_compression_handling():\n",
    "    \"\"\"Test compression handling for different encodings.\"\"\"\n",
    "    print(\"🗜️  Testing compression handling...\")\n",
    "    \n",
    "    base_url = f\"{JUPYTERLAB_URL}/firefox-launcher/js/Client.js\"\n",
    "    \n",
    "    compression_tests = [\n",
    "        {\"name\": \"No compression\", \"headers\": {}},\n",
    "        {\"name\": \"Gzip\", \"headers\": {\"Accept-Encoding\": \"gzip\"}},\n",
    "        {\"name\": \"Deflate\", \"headers\": {\"Accept-Encoding\": \"deflate\"}},\n",
    "        {\"name\": \"Brotli\", \"headers\": {\"Accept-Encoding\": \"br\"}},\n",
    "        {\"name\": \"Multiple\", \"headers\": {\"Accept-Encoding\": \"gzip, deflate, br\"}}\n",
    "    ]\n",
    "    \n",
    "    results = []\n",
    "    for test in compression_tests:\n",
    "        try:\n",
    "            response = requests.get(base_url, headers=test[\"headers\"], timeout=5)\n",
    "            success = response.status_code == 200 and len(response.content) > 0\n",
    "            \n",
    "            results.append({\n",
    "                \"name\": test[\"name\"],\n",
    "                \"status\": response.status_code,\n",
    "                \"size\": len(response.content),\n",
    "                \"encoding\": response.headers.get(\"content-encoding\", \"none\"),\n",
    "                \"success\": success\n",
    "            })\n",
    "            \n",
    "            status = \"✅\" if success else \"❌\"\n",
    "            print(f\"   {status} {test['name']}: {response.status_code}, {len(response.content)} bytes, encoding: {response.headers.get('content-encoding', 'none')}\")\n",
    "            \n",
    "        except Exception as e:\n",
    "            results.append({\"name\": test[\"name\"], \"error\": str(e), \"success\": False})\n",
    "            print(f\"   ❌ {test['name']}: {e}\")\n",
    "    \n",
    "    successful = sum(1 for r in results if r[\"success\"])\n",
    "    print(f\"\\n📊 Compression test result: {successful}/{len(compression_tests)} encodings working\")\n",
    "    return results\n",
    "\n",
    "compression_results = test_compression_handling()"
   ]
  },
  {
   "cell_type": "markdown",
   "id": "6746c9eb",
   "metadata": {},
   "source": [
    "## Test 5: iframe Embedding Test\n",
    "\n",
    "Create an actual iframe to test that the extension can be embedded properly."
   ]
  },
  {
   "cell_type": "code",
   "execution_count": 6,
   "id": "290f6592",
   "metadata": {},
   "outputs": [
    {
     "name": "stdout",
     "output_type": "stream",
     "text": [
      "🖼️  Testing iframe embedding...\n",
      "   CSP Header: frame-ancestors 'self'; report-uri /api/security/csp-report\n",
      "   iframe friendly: ✅\n"
     ]
    },
    {
     "data": {
      "text/html": [
       "\n",
       "        <div style=\"border: 2px solid #007acc; padding: 10px; margin: 10px 0;\">\n",
       "            <h4>🖼️ iframe Embedding Test</h4>\n",
       "            <p>If the iframe loads without errors, embedding is working:</p>\n",
       "            <iframe \n",
       "                src=\"http://localhost:8890/firefox-launcher/client?ws=ws://localhost:12345/&http=http://localhost:12345/\" \n",
       "                width=\"100%\" \n",
       "                height=\"400px\" \n",
       "                style=\"border: 1px solid #ccc;\"\n",
       "                sandbox=\"allow-scripts allow-same-origin allow-forms\">\n",
       "                Your browser does not support iframes.\n",
       "            </iframe>\n",
       "            <p><small>URL: http://localhost:8890/firefox-launcher/client?ws=ws://localhost:12345/&http=http://localhost:12345/</small></p>\n",
       "        </div>\n",
       "        "
      ],
      "text/plain": [
       "<IPython.core.display.HTML object>"
      ]
     },
     "metadata": {},
     "output_type": "display_data"
    }
   ],
   "source": [
    "def test_iframe_embedding():\n",
    "    \"\"\"Test iframe embedding capabilities.\"\"\"\n",
    "    print(\"🖼️  Testing iframe embedding...\")\n",
    "    \n",
    "    # Test CSP headers\n",
    "    test_url = f\"{JUPYTERLAB_URL}/firefox-launcher/css/client.css\"\n",
    "    \n",
    "    try:\n",
    "        response = requests.get(test_url, timeout=5)\n",
    "        csp_header = response.headers.get(\"Content-Security-Policy\", \"\")\n",
    "        \n",
    "        # Check if frame-ancestors allows embedding\n",
    "        iframe_friendly = (\n",
    "            \"frame-ancestors *\" in csp_header or\n",
    "            \"frame-ancestors 'self'\" in csp_header or\n",
    "            \"frame-ancestors\" not in csp_header\n",
    "        )\n",
    "        \n",
    "        print(f\"   CSP Header: {csp_header or 'None'}\")\n",
    "        print(f\"   iframe friendly: {'✅' if iframe_friendly else '❌'}\")\n",
    "        \n",
    "        # Create a simple iframe test\n",
    "        iframe_url = f\"{JUPYTERLAB_URL}/firefox-launcher/client?ws=ws://localhost:12345/&http=http://localhost:12345/\"\n",
    "        \n",
    "        iframe_html = f\"\"\"\n",
    "        <div style=\"border: 2px solid #007acc; padding: 10px; margin: 10px 0;\">\n",
    "            <h4>🖼️ iframe Embedding Test</h4>\n",
    "            <p>If the iframe loads without errors, embedding is working:</p>\n",
    "            <iframe \n",
    "                src=\"{iframe_url}\" \n",
    "                width=\"100%\" \n",
    "                height=\"400px\" \n",
    "                style=\"border: 1px solid #ccc;\"\n",
    "                sandbox=\"allow-scripts allow-same-origin allow-forms\">\n",
    "                Your browser does not support iframes.\n",
    "            </iframe>\n",
    "            <p><small>URL: {iframe_url}</small></p>\n",
    "        </div>\n",
    "        \"\"\"\n",
    "        \n",
    "        display(HTML(iframe_html))\n",
    "        \n",
    "        return {\n",
    "            \"csp_header\": csp_header,\n",
    "            \"iframe_friendly\": iframe_friendly,\n",
    "            \"test_url\": iframe_url\n",
    "        }\n",
    "        \n",
    "    except Exception as e:\n",
    "        print(f\"   ❌ Error testing iframe: {e}\")\n",
    "        return {\"error\": str(e)}\n",
    "\n",
    "iframe_test = test_iframe_embedding()"
   ]
  },
  {
   "cell_type": "markdown",
   "id": "d06cd2e8",
   "metadata": {},
   "source": [
    "## Test Summary and Results\n",
    "\n",
    "Comprehensive summary of all test results and recommendations."
   ]
  },
  {
   "cell_type": "code",
   "execution_count": null,
   "id": "1f1c5266",
   "metadata": {},
   "outputs": [
    {
     "name": "stdout",
     "output_type": "stream",
     "text": [
      "🎯 JupyterHub Firefox Launcher Test Summary\n",
      "==================================================\n",
      "\n",
      "📊 Test Results:\n",
      "   Direct JupyterLab access: 4/4 static files (✅)\n",
      "   JupyterHub proxy access: 4/4 static files (✅)\n",
      "   Client endpoint bypass: ✅\n",
      "   Compression handling: 5/5 encodings (✅)\n",
      "   iframe embedding: ✅\n",
      "\n",
      "🏆 Overall Score: 5/5\n",
      "🎉 EXCELLENT: Firefox launcher is working great through JupyterHub!\n",
      "   • All critical issues resolved\n",
      "   • Ready for production use\n",
      "   • iframe embedding supported\n",
      "\n",
      "🔗 Quick Access URLs:\n",
      "   JupyterHub: http://localhost:8000\n",
      "   JupyterLab: http://localhost:8890\n",
      "   Firefox Launcher: http://localhost:8890/firefox-launcher/\n"
     ]
    },
    {
     "ename": "",
     "evalue": "",
     "output_type": "error",
     "traceback": [
      "\u001b[1;31mThe Kernel crashed while executing code in the current cell or a previous cell. \n",
      "\u001b[1;31mPlease review the code in the cell(s) to identify a possible cause of the failure. \n",
      "\u001b[1;31mClick <a href='https://aka.ms/vscodeJupyterKernelCrash'>here</a> for more info. \n",
      "\u001b[1;31mView Jupyter <a href='command:jupyter.viewOutput'>log</a> for further details."
     ]
    }
   ],
   "source": [
    "def print_test_summary():\n",
    "    \"\"\"Print comprehensive test summary.\"\"\"\n",
    "    print(\"🎯 JupyterHub Firefox Launcher Test Summary\")\n",
    "    print(\"=\" * 50)\n",
    "    \n",
    "    # Count successes\n",
    "    direct_success = sum(1 for r in direct_results if r.get(\"success\", False))\n",
    "    jupyterhub_success = sum(1 for r in jupyterhub_results if r.get(\"success\", False))\n",
    "    compression_success = sum(1 for r in compression_results if r.get(\"success\", False))\n",
    "    \n",
    "    print(f\"\\n📊 Test Results:\")\n",
    "    print(f\"   Direct JupyterLab access: {direct_success}/4 static files ({'✅' if direct_success >= 3 else '❌'})\")\n",
    "    print(f\"   JupyterHub proxy access: {jupyterhub_success}/4 static files ({'✅' if jupyterhub_success >= 3 else '❌'})\")\n",
    "    print(f\"   Client endpoint bypass: {'✅' if client_test.get('direct_success', False) else '❌'}\")\n",
    "    print(f\"   Compression handling: {compression_success}/5 encodings ({'✅' if compression_success >= 4 else '❌'})\")\n",
    "    print(f\"   iframe embedding: {'✅' if iframe_test.get('iframe_friendly', False) else '❌'}\")\n",
    "    \n",
    "    # Overall assessment\n",
    "    overall_score = (\n",
    "        (direct_success >= 3) +\n",
    "        (jupyterhub_success >= 3) +\n",
    "        client_test.get('direct_success', False) +\n",
    "        (compression_success >= 4) +\n",
    "        iframe_test.get('iframe_friendly', False)\n",
    "    )\n",
    "    \n",
    "    print(f\"\\n🏆 Overall Score: {overall_score}/5\")\n",
    "    \n",
    "    if overall_score >= 4:\n",
    "        print(\"🎉 EXCELLENT: Firefox launcher is working great through JupyterHub!\")\n",
    "        print(\"   • All critical issues resolved\")\n",
    "        print(\"   • Ready for production use\")\n",
    "        print(\"   • iframe embedding supported\")\n",
    "    elif overall_score >= 3:\n",
    "        print(\"✅ GOOD: Firefox launcher is mostly working\")\n",
    "        print(\"   • Minor issues may need attention\")\n",
    "        print(\"   • Check failed tests above\")\n",
    "    else:\n",
    "        print(\"⚠️  NEEDS WORK: Some issues remain\")\n",
    "        print(\"   • Review failed tests\")\n",
    "        print(\"   • Check JupyterHub configuration\")\n",
    "    \n",
    "    print(f\"\\n🔗 Quick Access URLs:\")\n",
    "    print(f\"   JupyterHub: {JUPYTERHUB_URL}\")\n",
    "    print(f\"   JupyterLab: {JUPYTERLAB_URL}\")\n",
    "    print(f\"   Firefox Launcher: {JUPYTERLAB_URL}/firefox-launcher/\")\n",
    "\n",
    "print_test_summary()"
   ]
  }
 ],
 "metadata": {
  "kernelspec": {
   "display_name": "jup-fir-lau",
   "language": "python",
   "name": "python3"
  },
  "language_info": {
   "codemirror_mode": {
    "name": "ipython",
    "version": 3
   },
   "file_extension": ".py",
   "mimetype": "text/x-python",
   "name": "python",
   "nbconvert_exporter": "python",
   "pygments_lexer": "ipython3",
   "version": "3.12.3"
  }
 },
 "nbformat": 4,
 "nbformat_minor": 5
}
