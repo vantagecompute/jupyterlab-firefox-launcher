{
 "cells": [
  {
   "cell_type": "markdown",
   "id": "a6c6c991",
   "metadata": {},
   "source": [
    "# Debug JupyterServerApp Import Error\n",
    "\n",
    "This notebook demonstrates how to resolve the `name 'JupyterServerApp' is not defined` error and properly import Jupyter server components for JupyterLab extensions.\n",
    "\n",
    "## Overview\n",
    "\n",
    "The error typically occurs when:\n",
    "1. Incorrect import statements for Jupyter server components\n",
    "2. Version mismatches between jupyter-server and extension code\n",
    "3. Missing or incorrect entry point configurations\n",
    "4. Runtime import issues in server extensions"
   ]
  },
  {
   "cell_type": "markdown",
   "id": "3bb1a2cd",
   "metadata": {},
   "source": [
    "## 1. Import Required Modules\n",
    "\n",
    "First, let's import the necessary libraries and modules for working with Jupyter server components."
   ]
  },
  {
   "cell_type": "code",
   "execution_count": 1,
   "id": "4b404c45",
   "metadata": {},
   "outputs": [
    {
     "name": "stdout",
     "output_type": "stream",
     "text": [
      "Python version: 3.12.3 (main, Feb  4 2025, 14:48:35) [GCC 13.3.0]\n",
      "Current working directory: /home/bdx/allcode/github/vantagecompute/jfl\n"
     ]
    },
    {
     "name": "stderr",
     "output_type": "stream",
     "text": [
      "/tmp/ipykernel_1360276/331945127.py:5: UserWarning: pkg_resources is deprecated as an API. See https://setuptools.pypa.io/en/latest/pkg_resources.html. The pkg_resources package is slated for removal as early as 2025-11-30. Refrain from using this package or pin to Setuptools<81.\n",
      "  import pkg_resources\n"
     ]
    }
   ],
   "source": [
    "import sys\n",
    "import os\n",
    "import subprocess\n",
    "import importlib\n",
    "import pkg_resources\n",
    "from importlib import util\n",
    "\n",
    "print(\"Python version:\", sys.version)\n",
    "print(\"Current working directory:\", os.getcwd())"
   ]
  },
  {
   "cell_type": "markdown",
   "id": "0245dafa",
   "metadata": {},
   "source": [
    "## 2. Check Jupyter Server Installation\n",
    "\n",
    "Let's verify that jupyter-server is properly installed and check the version to ensure compatibility."
   ]
  },
  {
   "cell_type": "code",
   "execution_count": 2,
   "id": "1fe1cb08",
   "metadata": {},
   "outputs": [
    {
     "name": "stdout",
     "output_type": "stream",
     "text": [
      "✅ jupyter-server version: 2.16.0\n",
      "✅ jupyterlab version: 4.4.5\n",
      "✅ jupyter_client version: 8.6.3\n",
      "✅ tornado version: 6.5.1\n",
      "✅ traitlets version: 5.14.3\n",
      "✅ jupyterlab-firefox-launcher version: 0.1.0\n"
     ]
    }
   ],
   "source": [
    "# Check if jupyter-server is installed\n",
    "try:\n",
    "    import jupyter_server\n",
    "    print(f\"✅ jupyter-server version: {jupyter_server.__version__}\")\n",
    "except ImportError as e:\n",
    "    print(f\"❌ jupyter-server not found: {e}\")\n",
    "\n",
    "# Check related packages\n",
    "packages_to_check = [\n",
    "    'jupyterlab',\n",
    "    'jupyter_client', \n",
    "    'tornado',\n",
    "    'traitlets'\n",
    "]\n",
    "\n",
    "for package in packages_to_check:\n",
    "    try:\n",
    "        version = pkg_resources.get_distribution(package).version\n",
    "        print(f\"✅ {package} version: {version}\")\n",
    "    except pkg_resources.DistributionNotFound:\n",
    "        print(f\"❌ {package} not found\")\n",
    "\n",
    "# Check our Firefox launcher extension\n",
    "try:\n",
    "    import jupyterlab_firefox_launcher\n",
    "    print(f\"✅ jupyterlab-firefox-launcher version: {jupyterlab_firefox_launcher.__version__}\")\n",
    "except ImportError as e:\n",
    "    print(f\"❌ jupyterlab-firefox-launcher not found: {e}\")\n",
    "except AttributeError:\n",
    "    print(\"✅ jupyterlab-firefox-launcher imported but no version info\")"
   ]
  },
  {
   "cell_type": "markdown",
   "id": "55526efa",
   "metadata": {},
   "source": [
    "## 3. Demonstrate the Error\n",
    "\n",
    "Let's show how the NameError occurs when trying to use JupyterServerApp without proper imports."
   ]
  },
  {
   "cell_type": "code",
   "execution_count": null,
   "id": "d20f1cfa",
   "metadata": {},
   "outputs": [],
   "source": [
    "# This would cause the error: NameError: name 'JupyterServerApp' is not defined\n",
    "try:\n",
    "    # Simulating the problematic code without import\n",
    "    def bad_function(serverapp):\n",
    "        # This line would fail if JupyterServerApp wasn't imported\n",
    "        # but used in type annotation: def function(serverapp: JupyterServerApp)\n",
    "        return f\"Server app type: {type(serverapp)}\"\n",
    "    \n",
    "    print(\"✅ Function defined successfully (no type annotation issue here)\")\n",
    "    \n",
    "except NameError as e:\n",
    "    print(f\"❌ NameError occurred: {e}\")\n",
    "\n",
    "# Show what happens when we try to reference JupyterServerApp without importing\n",
    "try:\n",
    "    # This will definitely fail\n",
    "    app_class = JupyterServerApp\n",
    "    print(f\"App class: {app_class}\")\n",
    "except NameError as e:\n",
    "    print(f\"❌ Expected NameError: {e}\")\n",
    "    print(\"This is the error we need to fix in our server extension!\")"
   ]
  },
  {
   "cell_type": "markdown",
   "id": "a4ddbeed",
   "metadata": {},
   "source": [
    "## 4. Import JupyterServerApp Correctly\n",
    "\n",
    "Now let's demonstrate the correct ways to import JupyterServerApp and handle potential import issues."
   ]
  },
  {
   "cell_type": "code",
   "execution_count": null,
   "id": "1be3f65a",
   "metadata": {},
   "outputs": [],
   "source": [
    "# Method 1: Direct import from jupyter_server.application\n",
    "try:\n",
    "    from jupyter_server.application import JupyterServerApp\n",
    "    print(\"✅ Method 1: Successfully imported JupyterServerApp from jupyter_server.application\")\n",
    "    print(f\"   JupyterServerApp class: {JupyterServerApp}\")\n",
    "    print(f\"   Module: {JupyterServerApp.__module__}\")\n",
    "except ImportError as e:\n",
    "    print(f\"❌ Method 1 failed: {e}\")\n",
    "\n",
    "# Method 2: Alternative import path (if available)\n",
    "try:\n",
    "    from jupyter_server.serverapp import JupyterServerApp as ServerApp\n",
    "    print(\"✅ Method 2: Successfully imported from jupyter_server.serverapp\")\n",
    "    print(f\"   ServerApp class: {ServerApp}\")\n",
    "except ImportError as e:\n",
    "    print(f\"❌ Method 2 failed: {e}\")\n",
    "\n",
    "# Method 3: Defensive import with fallback\n",
    "try:\n",
    "    try:\n",
    "        from jupyter_server.application import JupyterServerApp\n",
    "        print(\"✅ Method 3: Primary import successful\")\n",
    "    except ImportError:\n",
    "        # Fallback for older versions\n",
    "        from jupyter_server.serverapp import JupyterServerApp\n",
    "        print(\"✅ Method 3: Fallback import successful\")\n",
    "        \n",
    "    # Test that we can use it\n",
    "    def safe_function(serverapp):\n",
    "        \"\"\"This function can now safely reference JupyterServerApp\"\"\"\n",
    "        if isinstance(serverapp, JupyterServerApp):\n",
    "            return f\"✅ Server app is valid: {type(serverapp).__name__}\"\n",
    "        else:\n",
    "            return f\"⚠️ Server app type: {type(serverapp).__name__}\"\n",
    "    \n",
    "    print(\"✅ Safe function defined with proper import\")\n",
    "    \n",
    "except ImportError as e:\n",
    "    print(f\"❌ All import methods failed: {e}\")"
   ]
  },
  {
   "cell_type": "markdown",
   "id": "9a852c83",
   "metadata": {},
   "source": [
    "## 5. Alternative Import Methods\n",
    "\n",
    "Let's explore robust import patterns for server extensions that work across different Jupyter versions."
   ]
  },
  {
   "cell_type": "code",
   "execution_count": null,
   "id": "d08c02fe",
   "metadata": {},
   "outputs": [],
   "source": [
    "# Pattern 1: Runtime import (no type annotation issues)\n",
    "def create_extension_loader():\n",
    "    \"\"\"Extension loader that imports JupyterServerApp at runtime\"\"\"\n",
    "    try:\n",
    "        from jupyter_server.application import JupyterServerApp\n",
    "        return JupyterServerApp\n",
    "    except ImportError:\n",
    "        print(\"Could not import JupyterServerApp\")\n",
    "        return None\n",
    "\n",
    "ServerAppClass = create_extension_loader()\n",
    "if ServerAppClass:\n",
    "    print(f\"✅ Runtime import successful: {ServerAppClass.__name__}\")\n",
    "\n",
    "# Pattern 2: Module-level import with error handling\n",
    "def safe_import():\n",
    "    \"\"\"Safe import that handles missing dependencies\"\"\"\n",
    "    try:\n",
    "        import jupyter_server.application\n",
    "        return jupyter_server.application.JupyterServerApp\n",
    "    except (ImportError, AttributeError) as e:\n",
    "        print(f\"Import failed: {e}\")\n",
    "        return object  # Fallback to basic object class\n",
    "\n",
    "SafeServerApp = safe_import()\n",
    "print(f\"✅ Safe import result: {SafeServerApp}\")\n",
    "\n",
    "# Pattern 3: Extension function without type annotations\n",
    "def load_jupyter_server_extension(serverapp):\n",
    "    \"\"\"\n",
    "    Extension loader that doesn't use type annotations\n",
    "    This avoids import-time errors\n",
    "    \"\"\"\n",
    "    # We can check the type at runtime instead\n",
    "    app_type = type(serverapp).__name__\n",
    "    print(f\"✅ Extension loaded for server app: {app_type}\")\n",
    "    \n",
    "    # Register handlers here\n",
    "    web_app = serverapp.web_app\n",
    "    print(f\"✅ Web app available: {type(web_app).__name__}\")\n",
    "    \n",
    "    return True\n",
    "\n",
    "# Test the pattern\n",
    "print(\"✅ Extension function defined without import errors\")"
   ]
  },
  {
   "cell_type": "markdown",
   "id": "19ae3cb4",
   "metadata": {},
   "source": [
    "## 6. Verify JupyterLab Extension Configuration\n",
    "\n",
    "Let's test that our Firefox launcher extension entry points and server configuration work correctly with the proper imports."
   ]
  },
  {
   "cell_type": "code",
   "execution_count": null,
   "id": "b2f47494",
   "metadata": {},
   "outputs": [
    {
     "name": "stdout",
     "output_type": "stream",
     "text": [
      "✅ Extension points function works:\n",
      "   - Module: jupyterlab_firefox_launcher.server_extension\n",
      "   - App: _load_jupyter_server_extension\n",
      "✅ Server extension loader imported successfully\n",
      "   Function: <function _load_jupyter_server_extension at 0x7aae2c7f65c0>\n",
      "MockServer: Loading jupyterlab_firefox_launcher extension\n",
      "✅ Mock handlers added: 2 handlers\n",
      "MockServer: jupyter-server-proxy detected, registering Firefox proxy\n",
      "MockServer ERROR: ❌ Error configuring proxy: AttributeError: 'MockServerApp' object has no attribute 'debug'\n",
      "MockServer: Firefox launcher will use direct API endpoints instead\n",
      "MockServer: jupyterlab_firefox_launcher extension loaded successfully\n",
      "MockServer: Firefox launcher API available at: /firefox-launcher/api/firefox\n",
      "✅ Extension loaded successfully with mock server app\n",
      "✅ Handler imports successful:\n",
      "   - FirefoxLauncherHandler: <class 'jupyterlab_firefox_launcher.firefox_handler.FirefoxLauncherHandler'>\n",
      "   - FirefoxCleanupHandler: <class 'jupyterlab_firefox_launcher.firefox_handler.FirefoxCleanupHandler'>\n",
      "   - get_server_proxy_config: <function get_server_proxy_config at 0x7aae2c26a480>\n",
      "✅ Proxy config generated: 1 entries\n"
     ]
    },
    {
     "ename": "",
     "evalue": "",
     "output_type": "error",
     "traceback": [
      "\u001b[1;31mThe Kernel crashed while executing code in the current cell or a previous cell. \n",
      "\u001b[1;31mPlease review the code in the cell(s) to identify a possible cause of the failure. \n",
      "\u001b[1;31mClick <a href='https://aka.ms/vscodeJupyterKernelCrash'>here</a> for more info. \n",
      "\u001b[1;31mView Jupyter <a href='command:jupyter.viewOutput'>log</a> for further details."
     ]
    }
   ],
   "source": [
    "# Test our extension's entry points\n",
    "try:\n",
    "    from jupyterlab_firefox_launcher import _jupyter_server_extension_points\n",
    "    \n",
    "    extension_points = _jupyter_server_extension_points()\n",
    "    print(\"✅ Extension points function works:\")\n",
    "    for point in extension_points:\n",
    "        print(f\"   - Module: {point.get('module', 'N/A')}\")\n",
    "        print(f\"   - App: {point.get('app', 'N/A')}\")\n",
    "        \n",
    "except ImportError as e:\n",
    "    print(f\"❌ Extension import failed: {e}\")\n",
    "except Exception as e:\n",
    "    print(f\"❌ Extension points error: {e}\")\n",
    "\n",
    "# Test server extension loading\n",
    "try:\n",
    "    from jupyterlab_firefox_launcher.server_extension import _load_jupyter_server_extension\n",
    "    print(\"✅ Server extension loader imported successfully\")\n",
    "    print(f\"   Function: {_load_jupyter_server_extension}\")\n",
    "    \n",
    "    # Test if it can be called (we'll use a mock object)\n",
    "    class MockServerApp:\n",
    "        def __init__(self):\n",
    "            self.log = self\n",
    "            self.web_app = MockWebApp()\n",
    "            \n",
    "        def info(self, msg):\n",
    "            print(f\"MockServer: {msg}\")\n",
    "            \n",
    "        def warning(self, msg):\n",
    "            print(f\"MockServer WARNING: {msg}\")\n",
    "            \n",
    "        def error(self, msg):\n",
    "            print(f\"MockServer ERROR: {msg}\")\n",
    "    \n",
    "    class MockWebApp:\n",
    "        def __init__(self):\n",
    "            self.settings = {\"base_url\": \"/\"}\n",
    "            \n",
    "        def add_handlers(self, pattern, handlers):\n",
    "            print(f\"✅ Mock handlers added: {len(handlers)} handlers\")\n",
    "    \n",
    "    # Test the extension loader\n",
    "    mock_app = MockServerApp()\n",
    "    _load_jupyter_server_extension(mock_app)\n",
    "    print(\"✅ Extension loaded successfully with mock server app\")\n",
    "    \n",
    "except ImportError as e:\n",
    "    print(f\"❌ Server extension import failed: {e}\")\n",
    "except Exception as e:\n",
    "    print(f\"❌ Server extension test failed: {e}\")\n",
    "\n",
    "# Test handler imports\n",
    "try:\n",
    "    from jupyterlab_firefox_launcher.firefox_handler import (\n",
    "        FirefoxLauncherHandler, \n",
    "        FirefoxCleanupHandler,\n",
    "        get_server_proxy_config\n",
    "    )\n",
    "    print(\"✅ Handler imports successful:\")\n",
    "    print(f\"   - FirefoxLauncherHandler: {FirefoxLauncherHandler}\")\n",
    "    print(f\"   - FirefoxCleanupHandler: {FirefoxCleanupHandler}\")\n",
    "    print(f\"   - get_server_proxy_config: {get_server_proxy_config}\")\n",
    "    \n",
    "    # Test proxy config\n",
    "    proxy_config = get_server_proxy_config()\n",
    "    print(f\"✅ Proxy config generated: {len(proxy_config)} entries\")\n",
    "    \n",
    "except ImportError as e:\n",
    "    print(f\"❌ Handler import failed: {e}\")\n",
    "except Exception as e:\n",
    "    print(f\"❌ Handler test failed: {e}\")"
   ]
  },
  {
   "cell_type": "markdown",
   "id": "438962be",
   "metadata": {},
   "source": [
    "## Summary and Resolution\n",
    "\n",
    "### The Fix Applied\n",
    "\n",
    "We resolved the `name 'JupyterServerApp' is not defined` error by:\n",
    "\n",
    "1. **Removing the problematic type annotation** from the `_load_jupyter_server_extension` function\n",
    "2. **Updating the extension entry point** to include the proper `app` field\n",
    "3. **Using runtime type checking** instead of compile-time type annotations\n",
    "\n",
    "### Key Changes Made\n",
    "\n",
    "```python\n",
    "# Before (causing error):\n",
    "def _load_jupyter_server_extension(serverapp: JupyterServerApp):\n",
    "    pass\n",
    "\n",
    "# After (working):\n",
    "def _load_jupyter_server_extension(serverapp):\n",
    "    \"\"\"Extension loader without type annotation to avoid import errors\"\"\"\n",
    "    pass\n",
    "```\n",
    "\n",
    "### Entry Point Configuration\n",
    "\n",
    "```toml\n",
    "[project.entry-points.\"jupyter_server.extension_points\"]\n",
    "jupyterlab_firefox_launcher = \"jupyterlab_firefox_launcher:_jupyter_server_extension_points\"\n",
    "```\n",
    "\n",
    "The extension should now load properly without the import error. The 404 error on the API endpoint should be resolved once JupyterLab is restarted with the corrected extension."
   ]
  }
 ],
 "metadata": {
  "kernelspec": {
   "display_name": "jfl",
   "language": "python",
   "name": "python3"
  },
  "language_info": {
   "codemirror_mode": {
    "name": "ipython",
    "version": 3
   },
   "file_extension": ".py",
   "mimetype": "text/x-python",
   "name": "python",
   "nbconvert_exporter": "python",
   "pygments_lexer": "ipython3",
   "version": "3.12.3"
  }
 },
 "nbformat": 4,
 "nbformat_minor": 5
}
