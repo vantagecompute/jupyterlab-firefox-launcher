{
 "cells": [
  {
   "cell_type": "markdown",
   "id": "21870f77",
   "metadata": {},
   "source": [
    "# Debug WebSocket Connection Issue\n",
    "\n",
    "This notebook helps debug the WebSocket connection issue with the Firefox launcher."
   ]
  },
  {
   "cell_type": "code",
   "execution_count": 1,
   "id": "e1ffaa90",
   "metadata": {},
   "outputs": [
    {
     "data": {
      "application/javascript": "\nconsole.log('=== Browser Location Debug ===');\nconsole.log('window.location.protocol:', window.location.protocol);\nconsole.log('window.location.host:', window.location.host);\nconsole.log('window.location.hostname:', window.location.hostname);\nconsole.log('window.location.port:', window.location.port);\nconsole.log('window.location.href:', window.location.href);\n",
      "text/plain": [
       "<IPython.core.display.Javascript object>"
      ]
     },
     "metadata": {},
     "output_type": "display_data"
    }
   ],
   "source": [
    "# Check what window.location is in the browser\n",
    "from IPython.display import Javascript, display\n",
    "\n",
    "display(Javascript(\"\"\"\n",
    "console.log('=== Browser Location Debug ===');\n",
    "console.log('window.location.protocol:', window.location.protocol);\n",
    "console.log('window.location.host:', window.location.host);\n",
    "console.log('window.location.hostname:', window.location.hostname);\n",
    "console.log('window.location.port:', window.location.port);\n",
    "console.log('window.location.href:', window.location.href);\n",
    "\"\"\"))"
   ]
  },
  {
   "cell_type": "code",
   "execution_count": 2,
   "id": "060ce360",
   "metadata": {},
   "outputs": [
    {
     "name": "stdout",
     "output_type": "stream",
     "text": [
      "JupyterHub proxy API: 403\n",
      "Error accessing proxy API: Expecting value: line 1 column 1 (char 0)\n"
     ]
    }
   ],
   "source": [
    "# Test direct connectivity to various endpoints\n",
    "import requests\n",
    "import subprocess\n",
    "import socket\n",
    "\n",
    "# Test JupyterHub proxy API\n",
    "try:\n",
    "    response = requests.get('http://127.0.0.1:8001/api/routes', timeout=5)\n",
    "    print(f\"JupyterHub proxy API: {response.status_code}\")\n",
    "    routes = response.json()\n",
    "    print(f\"Number of routes: {len(routes)}\")\n",
    "    for route, target in routes.items():\n",
    "        if 'proxy/55119' in route:\n",
    "            print(f\"Found Firefox route: {route} -> {target}\")\n",
    "except Exception as e:\n",
    "    print(f\"Error accessing proxy API: {e}\")"
   ]
  },
  {
   "cell_type": "code",
   "execution_count": 3,
   "id": "48c5ced4",
   "metadata": {},
   "outputs": [
    {
     "name": "stdout",
     "output_type": "stream",
     "text": [
      "localhost:55119 - CLOSED\n",
      "localhost:8889 - OPEN\n",
      "127.0.0.1:55119 - CLOSED\n",
      "127.0.0.1:8889 - OPEN\n",
      "192.168.7.10:55119 - CLOSED\n",
      "192.168.7.10:8889 - OPEN\n"
     ]
    }
   ],
   "source": [
    "# Test direct Xpra server connectivity\n",
    "def test_port(host, port):\n",
    "    try:\n",
    "        sock = socket.socket(socket.AF_INET, socket.SOCK_STREAM)\n",
    "        sock.settimeout(2)\n",
    "        result = sock.connect_ex((host, port))\n",
    "        sock.close()\n",
    "        return result == 0\n",
    "    except:\n",
    "        return False\n",
    "\n",
    "# Test various connectivity options\n",
    "hosts_to_test = ['localhost', '127.0.0.1', '192.168.7.10']\n",
    "ports_to_test = [55119, 8889]\n",
    "\n",
    "for host in hosts_to_test:\n",
    "    for port in ports_to_test:\n",
    "        is_open = test_port(host, port)\n",
    "        print(f\"{host}:{port} - {'OPEN' if is_open else 'CLOSED'}\")"
   ]
  },
  {
   "cell_type": "code",
   "execution_count": 4,
   "id": "585a7c34",
   "metadata": {},
   "outputs": [
    {
     "name": "stdout",
     "output_type": "stream",
     "text": [
      "http://localhost:8889/user/bdx/proxy/55119/ - 302 Found\n",
      "http://127.0.0.1:8889/user/bdx/proxy/55119/ - 302 Found\n",
      "http://192.168.7.10:8889/user/bdx/proxy/55119/ - 302 Found\n",
      "http://192.168.7.10:55119/ - ERROR: HTTPConnectionPool(host='192.168.7.10', port=55119): Max retries exceeded with url: / (Caused by NewConnectionError('<urllib3.connection.HTTPConnection object at 0x79f721ccd3d0>: Failed to establish a new connection: [Errno 111] Connection refused'))\n"
     ]
    }
   ],
   "source": [
    "# Test HTTP access to proxy routes\n",
    "urls_to_test = [\n",
    "    'http://localhost:8889/user/bdx/proxy/55119/',\n",
    "    'http://127.0.0.1:8889/user/bdx/proxy/55119/',\n",
    "    'http://192.168.7.10:8889/user/bdx/proxy/55119/',\n",
    "    'http://192.168.7.10:55119/',\n",
    "]\n",
    "\n",
    "for url in urls_to_test:\n",
    "    try:\n",
    "        response = requests.head(url, timeout=5)\n",
    "        print(f\"{url} - {response.status_code} {response.reason}\")\n",
    "    except Exception as e:\n",
    "        print(f\"{url} - ERROR: {e}\")"
   ]
  },
  {
   "cell_type": "code",
   "execution_count": 5,
   "id": "ed46ceca",
   "metadata": {},
   "outputs": [
    {
     "name": "stdout",
     "output_type": "stream",
     "text": [
      "Network interfaces:\n",
      "1: lo: <LOOPBACK,UP,LOWER_UP> mtu 65536 qdisc noqueue state UNKNOWN group default qlen 1000\n",
      "    link/loopback 00:00:00:00:00:00 brd 00:00:00:00:00:00\n",
      "    inet 127.0.0.1/8 scope host lo\n",
      "       valid_lft forever preferred_lft forever\n",
      "    inet6 ::1/128 scope host noprefixroute \n",
      "       valid_lft forever preferred_lft forever\n",
      "2: eno1: <BROADCAST,MULTICAST,UP,LOWER_UP> mtu 1500 qdisc fq_codel state UP group default qlen 1000\n",
      "    link/ether 1c:69:7a:a5:f0:e4 brd ff:ff:ff:ff:ff:ff\n",
      "    altname enp0s31f6\n",
      "    inet6 fe80::1e69:7aff:fea5:f0e4/64 scope link \n",
      "       valid_lft forever preferred_lft forever\n",
      "3: wlp0s20f3: <BROADCAST,MULTICAST> mtu 1500 qdisc noop state DOWN group default qlen 1000\n",
      "    link/ether 64:bc:58:f7:79:48 brd ff:ff:ff:ff:ff:ff\n",
      "4: eno1.7-br0: <BROADCAST,MULTICAST,UP,LOWER_UP> mtu 1500 qdisc noqueue state UP group default qlen 1000\n",
      "    link/ether be:76:91:bc:d2:c3 brd ff:ff:ff:ff:ff:ff\n",
      "    inet 192.168.7.10/24 metric 100 brd 192.168.7.255 scope global dynamic eno1.7-br0\n",
      "       valid_lft 3901sec preferred_lft 3901sec\n",
      "    inet6 fe80::bc76:91ff:febc:d2c3/64 scope link \n",
      "       valid_lft forever preferred_lft forever\n",
      "5: eno1.8-br0: <BROADCAST,MULTICAST,UP,LOWER_UP> mtu 1500 qdisc noqueue state UP group default qlen 1000\n",
      "    link/ether 32:ef:19:fb:8c:3d brd ff:ff:ff:ff:ff:ff\n",
      "    inet 192.168.8.10/24 brd 192.168.8.255 scope global eno1.8-br0\n",
      "       valid_lft forever preferred_lft forever\n",
      "    inet6 fe80::30ef:19ff:fefb:8c3d/64 scope link \n",
      "       valid_lft forever preferred_lft forever\n",
      "6: eno1.7@eno1: <BROADCAST,MULTICAST,UP,LOWER_UP> mtu 1500 qdisc noqueue master eno1.7-br0 state UP group default qlen 10000\n",
      "    link/ether 1c:69:7a:a5:f0:e4 brd ff:ff:ff:ff:ff:ff\n",
      "7: eno1.8@eno1: <BROADCAST,MULTICAST,UP,LOWER_UP> mtu 1500 qdisc noqueue master eno1.8-br0 state UP group default qlen 1000\n",
      "    link/ether 1c:69:7a:a5:f0:e4 brd ff:ff:ff:ff:ff:ff\n",
      "8: mpqemubr0: <BROADCAST,MULTICAST,UP,LOWER_UP> mtu 1500 qdisc noqueue state UP group default qlen 1000\n",
      "    link/ether 52:54:00:86:5f:e4 brd ff:ff:ff:ff:ff:ff\n",
      "    inet 10.172.154.1/24 brd 10.172.154.255 scope global mpqemubr0\n",
      "       valid_lft forever preferred_lft forever\n",
      "    inet6 fe80::5054:ff:fe86:5fe4/64 scope link \n",
      "       valid_lft forever preferred_lft forever\n",
      "9: tap-6b0d8daf768: <BROADCAST,MULTICAST,UP,LOWER_UP> mtu 1500 qdisc fq_codel master mpqemubr0 state UP group default qlen 1000\n",
      "    link/ether a6:63:81:39:13:eb brd ff:ff:ff:ff:ff:ff\n",
      "    inet6 fe80::a463:81ff:fe39:13eb/64 scope link \n",
      "       valid_lft forever preferred_lft forever\n",
      "10: virbr0: <NO-CARRIER,BROADCAST,MULTICAST,UP> mtu 1500 qdisc noqueue state DOWN group default qlen 1000\n",
      "    link/ether 52:54:00:2c:2d:d1 brd ff:ff:ff:ff:ff:ff\n",
      "    inet 192.168.122.1/24 brd 192.168.122.255 scope global virbr0\n",
      "       valid_lft forever preferred_lft forever\n",
      "11: docker0: <NO-CARRIER,BROADCAST,MULTICAST,UP> mtu 1500 qdisc noqueue state DOWN group default \n",
      "    link/ether 02:42:e3:e4:bd:78 brd ff:ff:ff:ff:ff:ff\n",
      "    inet 172.17.0.1/16 brd 172.17.255.255 scope global docker0\n",
      "       valid_lft forever preferred_lft forever\n",
      "\n"
     ]
    }
   ],
   "source": [
    "# Check system network configuration\n",
    "import subprocess\n",
    "\n",
    "# Check what interfaces are available\n",
    "try:\n",
    "    result = subprocess.run(['ip', 'addr', 'show'], capture_output=True, text=True)\n",
    "    print(\"Network interfaces:\")\n",
    "    print(result.stdout)\n",
    "except:\n",
    "    try:\n",
    "        result = subprocess.run(['ifconfig'], capture_output=True, text=True)\n",
    "        print(\"Network interfaces:\")\n",
    "        print(result.stdout)\n",
    "    except:\n",
    "        print(\"Could not get network interface info\")"
   ]
  }
 ],
 "metadata": {
  "kernelspec": {
   "display_name": "jup-fir-lau",
   "language": "python",
   "name": "python3"
  },
  "language_info": {
   "codemirror_mode": {
    "name": "ipython",
    "version": 3
   },
   "file_extension": ".py",
   "mimetype": "text/x-python",
   "name": "python",
   "nbconvert_exporter": "python",
   "pygments_lexer": "ipython3",
   "version": "3.12.3"
  }
 },
 "nbformat": 4,
 "nbformat_minor": 5
}
